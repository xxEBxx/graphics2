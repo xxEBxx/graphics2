{
 "cells": [
  {
   "cell_type": "markdown",
   "id": "744c6a9e",
   "metadata": {},
   "source": [
    "# Part 5: 2D Rendering and Shading in Python\n",
    "This notebook demonstrates fundamental 2D graphics operations using Python. We explore how to draw basic primitives (points, lines, triangles), apply geometric transformations (translation, scaling, rotation), and implement triangle rasterization and shading (flat and Gouraud). All operations are performed using NumPy and visualized with Matplotlib.\n"
   ]
  },
  {
   "cell_type": "markdown",
   "id": "c918612f",
   "metadata": {},
   "source": [
    "\n",
    "## 1. Imports and Configuration\n",
    "\n",
    "We begin by importing essential libraries and defining screen-related parameters:\n",
    "\n",
    "- The screen resolution is fixed to 100x100 pixels.\n",
    "- Basic RGB color constants are defined (e.g., RED, GREEN, BLUE, GRAY).\n",
    "- These constants are used to simulate a pixel-based drawing canvas.\n"
   ]
  },
  {
   "cell_type": "code",
   "execution_count": 10,
   "id": "fe5dd377",
   "metadata": {},
   "outputs": [],
   "source": [
    "import numpy as np\n",
    "import matplotlib.pyplot as plt\n",
    "\n",
    "# Screen setup\n",
    "SCREEN_WIDTH = 100\n",
    "SCREEN_HEIGHT = 100\n",
    "\n",
    "# Colors\n",
    "RED = [255, 0, 0]\n",
    "GREEN = [0, 255, 0]\n",
    "BLUE = [0, 0, 255]\n",
    "GRAY = [128, 128, 128]"
   ]
  },
  {
   "cell_type": "markdown",
   "id": "0bbfade6",
   "metadata": {},
   "source": [
    "# Part 5: 2D Rendering and Shading in Python"
   ]
  },
  {
   "cell_type": "markdown",
   "id": "c28a05c4",
   "metadata": {},
   "source": [
    "## 2. Transformation Matrices\n",
    "\n",
    "This section defines reusable functions to create standard 2D transformation matrices in homogeneous coordinates:\n",
    "\n",
    "- `translation_matrix(tx, ty)` shifts points by (tx, ty).\n",
    "- `scaling_matrix(sx, sy)` scales points with respect to the origin.\n",
    "- `rotation_matrix(theta)` rotates points counterclockwise by an angle theta.\n",
    "\n",
    "These transformations are applied using 3x3 matrices to allow for affine transformations.\n"
   ]
  },
  {
   "cell_type": "code",
   "execution_count": 11,
   "id": "e27d0934",
   "metadata": {},
   "outputs": [],
   "source": [
    "def translation_matrix(tx, ty):\n",
    "    return np.array([[1, 0, tx], [0, 1, ty], [0, 0, 1]])\n",
    "\n",
    "def scaling_matrix(sx, sy):\n",
    "    return np.array([[sx, 0, 0], [0, sy, 0], [0, 0, 1]])\n",
    "\n",
    "def rotation_matrix(theta):\n",
    "    c = np.cos(theta)\n",
    "    s = np.sin(theta)\n",
    "    return np.array([[c, -s, 0], [s, c, 0], [0, 0, 1]])"
   ]
  },
  {
   "cell_type": "markdown",
   "id": "452fd9e5",
   "metadata": {},
   "source": [
    "## 3. Drawing Functions\n",
    "\n",
    "This part implements the foundational drawing functions used in rendering:\n",
    "\n",
    "- `draw_point(x, y, color, screen)`: draws a single pixel at (x, y).\n",
    "- `draw_line(x0, y0, x1, y1, color, screen)`: uses Bresenham’s line algorithm to draw lines between points.\n",
    "- `draw_triangle(p0, p1, p2, color, screen)`: connects three points with lines to render a triangle outline.\n"
   ]
  },
  {
   "cell_type": "code",
   "execution_count": 12,
   "id": "4870208a",
   "metadata": {},
   "outputs": [],
   "source": [
    "def draw_point(x, y, color, screen):\n",
    "    if 0 <= x < screen.shape[1] and 0 <= y < screen.shape[0]:\n",
    "        screen[y, x] = color\n",
    "\n",
    "def draw_line(x0, y0, x1, y1, color, screen):\n",
    "    dx = abs(x1 - x0)\n",
    "    dy = abs(y1 - y0)\n",
    "    sx = 1 if x0 < x1 else -1\n",
    "    sy = 1 if y0 < y1 else -1\n",
    "    err = dx - dy\n",
    "    while True:\n",
    "        draw_point(x0, y0, color, screen)\n",
    "        if x0 == x1 and y0 == y1:\n",
    "            break\n",
    "        e2 = 2 * err\n",
    "        if e2 > -dy:\n",
    "            err -= dy\n",
    "            x0 += sx\n",
    "        if e2 < dx:\n",
    "            err += dx\n",
    "            y0 += sy\n",
    "\n",
    "def draw_triangle(p0, p1, p2, color, screen):\n",
    "    draw_line(p0[0], p0[1], p1[0], p1[1], color, screen)\n",
    "    draw_line(p1[0], p1[1], p2[0], p2[1], color, screen)\n",
    "    draw_line(p2[0], p2[1], p0[0], p0[1], color, screen)\n",
    "\n",
    "def signed_area(a, b, c):\n",
    "    return (b[0] - a[0]) * (c[1] - a[1]) - (b[1] - a[1]) * (c[0] - a[0])\n",
    "\n",
    "def fill_triangle(p0, p1, p2, color, screen):\n",
    "    p0 = np.array(p0, dtype=float)\n",
    "    p1 = np.array(p1, dtype=float)\n",
    "    p2 = np.array(p2, dtype=float)\n",
    "    min_x = int(np.floor(min(p0[0], p1[0], p2[0])))\n",
    "    max_x = int(np.ceil(max(p0[0], p1[0], p2[0])))\n",
    "    min_y = int(np.floor(min(p0[1], p1[1], p2[1])))\n",
    "    max_y = int(np.ceil(max(p0[1], p1[1], p2[1])))\n",
    "    D = signed_area(p0, p1, p2)\n",
    "    if D == 0:\n",
    "        return\n",
    "    for y in range(max(min_y, 0), min(max_y + 1, SCREEN_HEIGHT)):\n",
    "        for x in range(max(min_x, 0), min(max_x + 1, SCREEN_WIDTH)):\n",
    "            p = np.array([x, y], dtype=float)\n",
    "            alpha = signed_area(p, p1, p2) / D\n",
    "            beta = signed_area(p0, p, p2) / D\n",
    "            gamma = signed_area(p0, p1, p) / D\n",
    "            if alpha >= 0 and beta >= 0 and gamma >= 0:\n",
    "                screen[y, x] = color\n",
    "\n",
    "def fill_triangle_gouraud(p0, p1, p2, c0, c1, c2, screen):\n",
    "    p0 = np.array(p0, dtype=float)\n",
    "    p1 = np.array(p1, dtype=float)\n",
    "    p2 = np.array(p2, dtype=float)\n",
    "    c0 = np.array(c0, dtype=float)\n",
    "    c1 = np.array(c1, dtype=float)\n",
    "    c2 = np.array(c2, dtype=float)\n",
    "    min_x = int(np.floor(min(p0[0], p1[0], p2[0])))\n",
    "    max_x = int(np.ceil(max(p0[0], p1[0], p2[0])))\n",
    "    min_y = int(np.floor(min(p0[1], p1[1], p2[1])))\n",
    "    max_y = int(np.ceil(max(p0[1], p1[1], p2[1])))\n",
    "    D = signed_area(p0, p1, p2)\n",
    "    if D == 0:\n",
    "        return\n",
    "    for y in range(max(min_y, 0), min(max_y + 1, SCREEN_HEIGHT)):\n",
    "        for x in range(max(min_x, 0), min(max_x + 1, SCREEN_WIDTH)):\n",
    "            p = np.array([x, y], dtype=float)\n",
    "            alpha = signed_area(p, p1, p2) / D\n",
    "            beta = signed_area(p0, p, p2) / D\n",
    "            gamma = signed_area(p0, p1, p) / D\n",
    "            if alpha >= 0 and beta >= 0 and gamma >= 0:\n",
    "                color = alpha * c0 + beta * c1 + gamma * c2\n",
    "                screen[y, x] = np.clip(color, 0, 255).astype(np.uint8)\n",
    "\n",
    "def transform_point(point, matrix):\n",
    "    p = np.array([point[0], point[1], 1], dtype=float)\n",
    "    transformed = matrix @ p\n",
    "    return np.round(transformed[:2]).astype(int)"
   ]
  },
  {
   "cell_type": "markdown",
   "id": "c070c165",
   "metadata": {},
   "source": [
    "## 4. Gouraud Shading\n",
    "\n",
    "In this section, we implement Gouraud shading using barycentric interpolation.\n",
    "\n",
    "- `fill_triangle(...)` fills a triangle uniformly using a single color.\n",
    "- `fill_triangle_gouraud(...)` interpolates RGB values from each vertex across the triangle surface to achieve smooth shading.\n",
    "- Barycentric coordinates are used to determine if a pixel lies within the triangle and to blend vertex colors proportionally.\n"
   ]
  },
  {
   "cell_type": "code",
   "execution_count": 13,
   "id": "1002c834",
   "metadata": {},
   "outputs": [],
   "source": [
    "\n",
    "# Define triangle vertices\n",
    "p0 = [50, 60]\n",
    "p1 = [60, 40]\n",
    "p2 = [40, 40]\n"
   ]
  },
  {
   "cell_type": "markdown",
   "id": "ece2138b",
   "metadata": {},
   "source": [
    "## 5. Transform Utility\n",
    "\n",
    "The `transform_point(point, matrix)` function applies a 3x3 transformation matrix to a 2D point using homogeneous coordinates. This utility allows geometric transformations to be applied consistently across points and shapes.\n"
   ]
  },
  {
   "cell_type": "markdown",
   "id": "a2d9fb38",
   "metadata": {},
   "source": [
    "## 5.1 Basic Rendering Primitives\n",
    "\n",
    "We begin by rendering the simplest graphical elements:\n",
    "\n",
    "- A single red point at a fixed location.\n",
    "- A green diagonal line.\n",
    "- A blue triangle outline defined by three vertex positions.\n",
    "\n",
    "These primitives demonstrate pixel-level control over rendering.\n"
   ]
  },
  {
   "cell_type": "code",
   "execution_count": 14,
   "id": "0e689bc7",
   "metadata": {},
   "outputs": [
    {
     "data": {
      "text/plain": [
       "<Figure size 640x480 with 0 Axes>"
      ]
     },
     "metadata": {},
     "output_type": "display_data"
    }
   ],
   "source": [
    "\n",
    "# 5.1 Basic Rendering Primitives\n",
    "screen_primitives = np.zeros((SCREEN_HEIGHT, SCREEN_WIDTH, 3), dtype=np.uint8)\n",
    "draw_point(50, 50, RED, screen_primitives)\n",
    "draw_line(20, 20, 80, 80, GREEN, screen_primitives)\n",
    "draw_triangle(p0, p1, p2, BLUE, screen_primitives)\n",
    "\n",
    "plt.savefig('rendering_output.png')"
   ]
  },
  {
   "cell_type": "markdown",
   "id": "d7f40fe3",
   "metadata": {},
   "source": [
    "## 5.2 Transformations\n",
    "\n",
    "This section applies geometric transformations to the initial triangle:\n",
    "\n",
    "- Translation: shifts the triangle horizontally.\n",
    "- Scaling: enlarges the triangle.\n",
    "- Rotation: rotates the triangle around the origin.\n",
    "\n",
    "Each transformation is implemented via matrix multiplication, and the transformed triangle is filled in red.\n"
   ]
  },
  {
   "cell_type": "code",
   "execution_count": 15,
   "id": "7b85f1ba",
   "metadata": {},
   "outputs": [],
   "source": [
    "\n",
    "# 5.2 Transformations\n",
    "screen_trans = np.zeros((SCREEN_HEIGHT, SCREEN_WIDTH, 3), dtype=np.uint8)\n",
    "screen_scale = np.zeros((SCREEN_HEIGHT, SCREEN_WIDTH, 3), dtype=np.uint8)\n",
    "screen_rotate = np.zeros((SCREEN_HEIGHT, SCREEN_WIDTH, 3), dtype=np.uint8)\n",
    "\n",
    "matrices = {\n",
    "    'Translation': translation_matrix(20, 0),\n",
    "    'Scaling': scaling_matrix(1.5, 1.5),\n",
    "    'Rotation': rotation_matrix(np.pi / 4)  # 45 degrees\n",
    "}\n",
    "screens = [screen_trans, screen_scale, screen_rotate]\n",
    "\n",
    "for screen, (title, matrix) in zip(screens, matrices.items()):\n",
    "    draw_triangle(p0, p1, p2, BLUE, screen)\n",
    "    p0_t = transform_point(p0, matrix)\n",
    "    p1_t = transform_point(p1, matrix)\n",
    "    p2_t = transform_point(p2, matrix)\n",
    "   "
   ]
  },
  {
   "cell_type": "markdown",
   "id": "793062d4",
   "metadata": {},
   "source": [
    "## 5.3 Rasterization\n",
    "\n",
    "Here, the triangle is filled using a uniform color (solid red), demonstrating the process of converting geometric primitives into pixel-based representations. Barycentric coordinates are used to test whether each pixel falls inside the triangle.\n"
   ]
  },
  {
   "cell_type": "code",
   "execution_count": 16,
   "id": "8c876f79",
   "metadata": {},
   "outputs": [],
   "source": [
    "\n",
    "# 5.3 Rasterization\n",
    "screen_raster = np.zeros((SCREEN_HEIGHT, SCREEN_WIDTH, 3), dtype=np.uint8)\n",
    "fill_triangle(p0, p1, p2, RED, screen_raster)"
   ]
  },
  {
   "cell_type": "markdown",
   "id": "f849721c",
   "metadata": {},
   "source": [
    "## 5.4 Shading Techniques\n",
    "\n",
    "This section compares two shading methods:\n",
    "\n",
    "- Flat shading: fills the triangle with a single gray color, producing a uniform appearance.\n",
    "- Gouraud shading: interpolates the red, green, and blue vertex colors across the triangle to produce a gradient.\n",
    "\n",
    "The difference illustrates how shading models affect visual realism.\n"
   ]
  },
  {
   "cell_type": "code",
   "execution_count": 17,
   "id": "cb0c6f59",
   "metadata": {},
   "outputs": [],
   "source": [
    "\n",
    "# 5.4 Shading\n",
    "screen_flat = np.zeros((SCREEN_HEIGHT, SCREEN_WIDTH, 3), dtype=np.uint8)\n",
    "screen_gouraud = np.zeros((SCREEN_HEIGHT, SCREEN_WIDTH, 3), dtype=np.uint8)\n",
    "fill_triangle(p0, p1, p2, GRAY, screen_flat)\n",
    "fill_triangle_gouraud(p0, p1, p2, RED, GREEN, BLUE, screen_gouraud)\n"
   ]
  },
  {
   "cell_type": "markdown",
   "id": "c47fc3b7",
   "metadata": {},
   "source": [
    "## 6. Visualization\n",
    "\n",
    "All rendering outputs are displayed using Matplotlib.\n",
    "\n",
    "- Multiple rendering stages (primitives, transformations, rasterization, and shading) are shown side-by-side for comparison.\n",
    "- An additional plot displays the result of Gouraud shading alone for closer inspection.\n"
   ]
  },
  {
   "cell_type": "code",
   "execution_count": 18,
   "id": "f4d44b7a",
   "metadata": {},
   "outputs": [
    {
     "data": {
      "image/png": "[encoded data removed]",
      "text/plain": [
       "<Figure size 1500x1000 with 6 Axes>"
      ]
     },
     "metadata": {},
     "output_type": "display_data"
    },
    {
     "data": {
      "image/png": "[encoded data removed]",
      "text/plain": [
       "<Figure size 500x500 with 1 Axes>"
      ]
     },
     "metadata": {},
     "output_type": "display_data"
    }
   ],
   "source": [
    "\n",
    "# Display results\n",
    "fig, axes = plt.subplots(2, 3, figsize=(15, 10))\n",
    "axes[0, 0].imshow(screen_primitives)\n",
    "axes[0, 0].set_title('5.1 Primitives: Point, Line, Triangle')\n",
    "axes[0, 1].imshow(screen_trans)\n",
    "axes[0, 1].set_title('5.2 Translation')\n",
    "axes[0, 2].imshow(screen_scale)\n",
    "axes[0, 2].set_title('5.2 Scaling')\n",
    "axes[1, 0].imshow(screen_rotate)\n",
    "axes[1, 0].set_title('5.2 Rotation')\n",
    "axes[1, 1].imshow(screen_raster)\n",
    "axes[1, 1].set_title('5.3 Rasterization')\n",
    "axes[1, 2].imshow(screen_flat)\n",
    "axes[1, 2].set_title('5.4 Flat Shading')\n",
    "plt.figure(figsize=(5, 5))\n",
    "plt.imshow(screen_gouraud)\n",
    "plt.title('5.4 Gouraud Shading')\n",
    "plt.savefig('rendering_output.png')"
   ]
  }
 ],
 "metadata": {
  "kernelspec": {
   "display_name": "base",
   "language": "python",
   "name": "python3"
  },
  "language_info": {
   "codemirror_mode": {
    "name": "ipython",
    "version": 3
   },
   "file_extension": ".py",
   "mimetype": "text/x-python",
   "name": "python",
   "nbconvert_exporter": "python",
   "pygments_lexer": "ipython3",
   "version": "3.12.7"
  }
 },
 "nbformat": 4,
 "nbformat_minor": 5
}
